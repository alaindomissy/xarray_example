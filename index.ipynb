{
 "cells": [
  {
   "cell_type": "markdown",
   "metadata": {},
   "source": [
    "\n",
    "Calculating Seasonal Averages from Timeseries of Monthly Means\n",
    "\n",
    "Author: Joe Hamman\n",
    "\n",
    "The data used for this example can be found in the xray-data repository. You may need to change the path to RASM_example_data.nc below.\n",
    "\n",
    "Suppose we have a netCDF or xray Dataset of monthly mean data and we want to calculate the seasonal average. To do this properly, we need to calculate the weighted average considering that each month has a different number of days."
   ]
  },
  {
   "cell_type": "code",
   "execution_count": 3,
   "metadata": {
    "collapsed": false
   },
   "outputs": [
    {
     "ename": "ImportError",
     "evalue": "No module named 'netcdf4'",
     "output_type": "error",
     "traceback": [
      "\u001b[1;31m---------------------------------------------------------------------------\u001b[0m",
      "\u001b[1;31mImportError\u001b[0m                               Traceback (most recent call last)",
      "\u001b[1;32m<ipython-input-3-a13b025494fc>\u001b[0m in \u001b[0;36m<module>\u001b[1;34m()\u001b[0m\n\u001b[0;32m      3\u001b[0m \u001b[1;32mimport\u001b[0m \u001b[0mpandas\u001b[0m \u001b[1;32mas\u001b[0m \u001b[0mpd\u001b[0m\u001b[1;33m\u001b[0m\u001b[0m\n\u001b[0;32m      4\u001b[0m \u001b[1;31m# import xarray\u001b[0m\u001b[1;33m\u001b[0m\u001b[1;33m\u001b[0m\u001b[0m\n\u001b[1;32m----> 5\u001b[1;33m \u001b[1;32mfrom\u001b[0m \u001b[0mnetcdf4\u001b[0m \u001b[1;32mimport\u001b[0m \u001b[0mnum2date\u001b[0m\u001b[1;33m\u001b[0m\u001b[0m\n\u001b[0m\u001b[0;32m      6\u001b[0m \u001b[1;32mimport\u001b[0m \u001b[0mmatplotlib\u001b[0m\u001b[1;33m.\u001b[0m\u001b[0mpyplot\u001b[0m \u001b[1;32mas\u001b[0m \u001b[0mplt\u001b[0m\u001b[1;33m\u001b[0m\u001b[0m\n",
      "\u001b[1;31mImportError\u001b[0m: No module named 'netcdf4'"
     ]
    }
   ],
   "source": [
    "%matplotlib inline\n",
    "import numpy as np\n",
    "import pandas as pd\n",
    "# import xarray\n",
    "# from netcdf4 import num2date\n",
    "import matplotlib.pyplot as plt "
   ]
  },
  {
   "cell_type": "code",
   "execution_count": 4,
   "metadata": {
    "collapsed": false
   },
   "outputs": [
    {
     "ename": "ImportError",
     "evalue": "No module named 'netCDF4'",
     "output_type": "error",
     "traceback": [
      "\u001b[1;31m---------------------------------------------------------------------------\u001b[0m",
      "\u001b[1;31mImportError\u001b[0m                               Traceback (most recent call last)",
      "\u001b[1;32m<ipython-input-4-c5d22513aa9b>\u001b[0m in \u001b[0;36m<module>\u001b[1;34m()\u001b[0m\n\u001b[1;32m----> 1\u001b[1;33m \u001b[1;32mfrom\u001b[0m \u001b[0mnetCDF4\u001b[0m \u001b[1;32mimport\u001b[0m \u001b[0mDataset\u001b[0m\u001b[1;33m\u001b[0m\u001b[0m\n\u001b[0m",
      "\u001b[1;31mImportError\u001b[0m: No module named 'netCDF4'"
     ]
    }
   ],
   "source": [
    "# from netCDF4 import Dataset"
   ]
  },
  {
   "cell_type": "code",
   "execution_count": 2,
   "metadata": {
    "collapsed": false
   },
   "outputs": [
    {
     "name": "stdout",
     "output_type": "stream",
     "text": [
      "# packages in environment at /home/user/anaconda3/envs/xarray:\n",
      "#\n",
      "bokeh                     0.11.1                   py35_0    defaults\n",
      "bottleneck                1.0.0               np111py35_0    defaults\n",
      "chest                     0.2.3                    py35_0    defaults\n",
      "cloudpickle               0.2.1                    py35_0    defaults\n",
      "curl                      7.45.0                        0    defaults\n",
      "cycler                    0.10.0                   py35_0    defaults\n",
      "dask                      0.8.2                    py35_0    defaults\n",
      "fontconfig                2.11.1                        5    defaults\n",
      "freetype                  2.5.5                         0    defaults\n",
      "hdf5                      1.8.15.1                      2    defaults\n",
      "heapdict                  1.0.0                    py35_0    defaults\n",
      "jinja2                    2.8                      py35_0    defaults\n",
      "libnetcdf                 4.3.3.1                       3    defaults\n",
      "libpng                    1.6.17                        0    defaults\n",
      "libxml2                   2.9.2                         0    defaults\n",
      "locket                    0.2.0                    py35_0    defaults\n",
      "markupsafe                0.23                     py35_0    defaults\n",
      "matplotlib                1.5.1               np111py35_0    defaults\n",
      "mkl                       11.3.1                        0    defaults\n",
      "netcdf4                   1.2.2               np111py35_0    defaults\n",
      "numpy                     1.11.0                   py35_0    defaults\n",
      "openssl                   1.0.2h                        0    defaults\n",
      "pandas                    0.18.1              np111py35_0    defaults\n",
      "partd                     0.3.2                    py35_1    defaults\n",
      "pip                       8.1.1                    py35_1    defaults\n",
      "psutil                    4.1.0                    py35_0    defaults\n",
      "pyparsing                 2.1.1                    py35_0    defaults\n",
      "pyqt                      4.11.4                   py35_1    defaults\n",
      "python                    3.5.1                         0    defaults\n",
      "python-dateutil           2.5.2                    py35_0    defaults\n",
      "pytz                      2016.3                   py35_0    defaults\n",
      "pyyaml                    3.11                     py35_1    defaults\n",
      "qt                        4.8.7                         1    defaults\n",
      "readline                  6.2                           2    <unknown>\n",
      "requests                  2.9.1                    py35_0    defaults\n",
      "setuptools                20.7.0                   py35_0    defaults\n",
      "sip                       4.16.9                   py35_0    defaults\n",
      "six                       1.10.0                   py35_0    defaults\n",
      "sqlite                    3.9.2                         0    defaults\n",
      "tk                        8.5.18                        0    <unknown>\n",
      "toolz                     0.7.4                    py35_0    defaults\n",
      "tornado                   4.3                      py35_0    defaults\n",
      "wheel                     0.29.0                   py35_0    defaults\n",
      "xarray                    0.7.2                    py35_0    defaults\n",
      "xz                        5.0.5                         1    defaults\n",
      "yaml                      0.1.6                         0    defaults\n",
      "zlib                      1.2.8                         0    <unknown>\n"
     ]
    }
   ],
   "source": [
    "!conda list"
   ]
  },
  {
   "cell_type": "code",
   "execution_count": null,
   "metadata": {
    "collapsed": true
   },
   "outputs": [],
   "source": []
  }
 ],
 "metadata": {
  "kernelspec": {
   "display_name": "Python 3",
   "language": "python",
   "name": "python3"
  },
  "language_info": {
   "codemirror_mode": {
    "name": "ipython",
    "version": 3
   },
   "file_extension": ".py",
   "mimetype": "text/x-python",
   "name": "python",
   "nbconvert_exporter": "python",
   "pygments_lexer": "ipython3",
   "version": "3.4.4"
  }
 },
 "nbformat": 4,
 "nbformat_minor": 0
}
